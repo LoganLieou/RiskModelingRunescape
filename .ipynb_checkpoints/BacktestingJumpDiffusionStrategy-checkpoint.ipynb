{
 "cells": [
  {
   "cell_type": "code",
   "execution_count": null,
   "id": "ea32384f-5412-4598-91ef-6b0869659cb0",
   "metadata": {},
   "outputs": [],
   "source": [
    "from ib_insync import *\n",
    "\n",
    "ib = IB()\n",
    "ib.connect(\"127.0.0.1\", 7497, clientId=1)\n",
    "\n",
    "# TODO I need Pro KMS"
   ]
  }
 ],
 "metadata": {
  "kernelspec": {
   "display_name": "Python 3 (ipykernel)",
   "language": "python",
   "name": "python3"
  },
  "language_info": {
   "codemirror_mode": {
    "name": "ipython",
    "version": 3
   },
   "file_extension": ".py",
   "mimetype": "text/x-python",
   "name": "python",
   "nbconvert_exporter": "python",
   "pygments_lexer": "ipython3",
   "version": "3.12.3"
  }
 },
 "nbformat": 4,
 "nbformat_minor": 5
}
